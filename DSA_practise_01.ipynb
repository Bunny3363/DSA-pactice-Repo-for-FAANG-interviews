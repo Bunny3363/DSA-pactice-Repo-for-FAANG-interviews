{
 "cells": [
  {
   "cell_type": "markdown",
   "metadata": {},
   "source": [
    "# Searching Algorithms\n"
   ]
  },
  {
   "cell_type": "markdown",
   "metadata": {},
   "source": [
    "## First Application of Divide and Conquer:\n",
    "1. Binary Search: This search algorithm works in an array of elements that are already **sorted** by ignoring half of the elements after just one comparision and basic prociple of binary search is **Divide and Conquer Algo paradigm**\n"
   ]
  },
  {
   "cell_type": "code",
   "execution_count": 1,
   "metadata": {},
   "outputs": [
    {
     "data": {
      "text/plain": [
       "6"
      ]
     },
     "execution_count": 1,
     "metadata": {},
     "output_type": "execute_result"
    }
   ],
   "source": [
    "## Linear Search Algorithm Implementation\n",
    "\n",
    "def LinearSearch(arr, x, n):\n",
    "    for i in range(n):\n",
    "        if arr[i] == x:\n",
    "            return i\n",
    "    return -1 # -1 indicates that an element is not present in array\n",
    "\n",
    "# Driver Code\n",
    "arr = [53, 2, 52, 8, 96, 3, 88]\n",
    "x = 88\n",
    "n = len(arr)\n",
    "LinearSearch(arr, x, n)"
   ]
  },
  {
   "cell_type": "markdown",
   "metadata": {},
   "source": [
    "#### **Binary Search Implementation**\n",
    "\n",
    "##### Steps of Binary Search Implementation:\n",
    "1. Compare x with the middle element.\n",
    "2. If x matches with the middle element, we return the mid index.\n",
    "3. Else if x is greater than the mid element, then x can only lie in the right (greater) half subarray after the mid element. Then we apply the algorithm again for the right half.\n",
    "4. Else if x is smaller, the target x must lie in the left (lower) half. So we apply the algorithm for the left half."
   ]
  },
  {
   "cell_type": "markdown",
   "metadata": {},
   "source": [
    "**Recursice Approach of Binary search**"
   ]
  },
  {
   "cell_type": "code",
   "execution_count": 7,
   "metadata": {},
   "outputs": [
    {
     "name": "stdout",
     "output_type": "stream",
     "text": [
      "8\n"
     ]
    }
   ],
   "source": [
    "## Binary Search - Recursive Approach\n",
    "\n",
    "def BinarySearch(arr, low, high, x):\n",
    "    # First check whether the problem is big or small\n",
    "    # Considering this as small problem\n",
    "    if (low == high):                            ## small problem \n",
    "        if (arr[low] == x):\n",
    "            return low\n",
    "        else:\n",
    "            return -1                            ## Element not present in array\n",
    "    # Big problem -> use Divide and Conquer Algorithm\n",
    "    else:\n",
    "        mid = low + (high - low) // 2\n",
    "        \n",
    "        if (arr[mid] == x):\n",
    "            return mid\n",
    "        elif (arr[mid] < x):\n",
    "            return BinarySearch(arr, mid+1, high, x)\n",
    "        else:\n",
    "            BinarySearch(arr, low, mid-1, x)\n",
    "\n",
    "\n",
    "# Driver Code\n",
    "arr = [2,5,7,12,34,56,79,80,90]\n",
    "#arr1 = [2,5,7,80,80,100,139,190,290]\n",
    "# arr = [2, 5]\n",
    "x = 90\n",
    "n = len(arr)\n",
    "\n",
    "pos = BinarySearch(arr, 0, n-1, x)\n",
    "print(pos)"
   ]
  },
  {
   "cell_type": "markdown",
   "metadata": {},
   "source": [
    "#### **Iterative Approach of Binary Search**"
   ]
  },
  {
   "cell_type": "code",
   "execution_count": 9,
   "metadata": {},
   "outputs": [
    {
     "name": "stdout",
     "output_type": "stream",
     "text": [
      "8\n"
     ]
    }
   ],
   "source": [
    "## Binary Search - Iteration Approach\n",
    "\n",
    "def BinarySearch(arr, low, high, x):\n",
    "    while(low <= high):\n",
    "        # Dividing the problem\n",
    "        mid = low + (high - low)//2\n",
    "        # If x is greater, ignore the left half\n",
    "        if (arr[mid] < x):\n",
    "            low = mid + 1\n",
    "        # If x is smaller, ignore the right half\n",
    "        elif (arr[mid] > x):\n",
    "            high = mid - 1\n",
    "        # x is present at the mid\n",
    "        else:\n",
    "            return mid\n",
    "    # searched element not present in an array\n",
    "    return -1\n",
    "\n",
    "\n",
    "## Drive Code\n",
    "arr = [2,5,7,12,34,56,79,80,90]\n",
    "x = 90\n",
    "n = len(arr)\n",
    "pos = BinarySearch(arr,0,n-1,x)\n",
    "print(pos)"
   ]
  },
  {
   "cell_type": "markdown",
   "metadata": {},
   "source": [
    "##### **Assignment Problem 1 :** \n",
    "input : Sorted array of n distinct elements which are integers\n",
    "\n",
    "output : Find any element in an array such that an array element and it's corresponding index is same meaning array[i] = i.\n",
    "\n",
    "Write an optimised code with its time complexity for above problem statement."
   ]
  },
  {
   "cell_type": "code",
   "execution_count": 29,
   "metadata": {},
   "outputs": [
    {
     "name": "stdout",
     "output_type": "stream",
     "text": [
      "3\n"
     ]
    }
   ],
   "source": [
    "## Written by me but logic needs to be updated\n",
    "\n",
    "\n",
    "# def BinarySearchElement(arr, low, high):\n",
    "#     if (low >= high): # small problem case O(n) = 1\n",
    "#         if low == 0:\n",
    "#             return 0\n",
    "#         else:\n",
    "#             return -1\n",
    "#     else:\n",
    "#         mid = low + (high - low)//2\n",
    "#         print(mid)\n",
    "#         print(arr)\n",
    "#         if arr[mid] == mid:\n",
    "#             return mid\n",
    "#         elif (mid+1 < arr[mid]):\n",
    "#             print('Called elif block')\n",
    "#             return BinarySearchElement(arr, 0, mid-1)\n",
    "#         else:\n",
    "#             print('called else block')            \n",
    "#             return BinarySearchElement(arr, mid+1, high)\n",
    "\n",
    "## taken from GfG\n",
    "def binarySearch(arr, low, high):\n",
    "    if high >= low :\n",
    "         \n",
    "        mid = low + (high - low)//2\n",
    "        if mid == arr[mid]:\n",
    "            return mid\n",
    "        res = -1\n",
    "        if mid + 1 <= arr[high]:\n",
    "            res = binarySearch(arr, (mid + 1), high)\n",
    "        if res !=-1:\n",
    "            return res\n",
    "        if mid-1 >= arr[low]:\n",
    "            return binarySearch(arr, low, (mid -1))\n",
    "     \n",
    " \n",
    "    # Return -1 if there is no Fixed Point\n",
    "    return -1\n",
    "## Driver code\n",
    "# arr = [ 1, 2, 3, 3\n",
    "# , 5, 6, 8, 13, 15, 35]\n",
    "# arr = [0, 2, 3, 4, 4, 7, 9]\n",
    "arr = [-10, -1, 0, 3, 10, 11, 30, 50, 100]\n",
    "n = len(arr)\n",
    "# available_flag = BinarySearchElement(arr, 0, n-1)\n",
    "available_flag = binarySearch(arr, 0, n-1)\n",
    "print(available_flag)"
   ]
  },
  {
   "cell_type": "code",
   "execution_count": null,
   "metadata": {},
   "outputs": [],
   "source": [
    "## sum of 2 integers closest to a target value\n",
    "def sumof2ele(arr, sum_of_pairs):\n",
    "    for i in arr:\n",
    "        required_pair = sum_of_pairs - i\n",
    "        for j in arr[i:]:\n",
    "\n",
    "\n",
    "            \n",
    "\n",
    "\n",
    "\n",
    "\n",
    "\n",
    "\n",
    "\n",
    "\n",
    "\n",
    "\n",
    "\n",
    "\n",
    "\n",
    "## Driver code\n",
    "arr_sum_2_ele = [10, 22, 28, 29, 30, 40]\n",
    "sum_of_pairs = 54\n",
    "pairs = sumof2ele(arr, arr_sum_2_ele)\n",
    "print(pairs)"
   ]
  },
  {
   "cell_type": "markdown",
   "metadata": {},
   "source": [
    "### Two sum\n",
    "Given an array of integers nums and an integer target, return indices of the two numbers such that they add up to target.\n",
    "\n",
    "You may assume that each input would have exactly one solution, and you may not use the same element twice.\n",
    "\n",
    "You can return the answer in any order.\n",
    "\n",
    " \n",
    "\n",
    "Example 1:\n",
    "\n",
    "Input: nums = [2,7,11,15], target = 9\n",
    "Output: [0,1]\n",
    "Explanation: Because nums[0] + nums[1] == 9, we return [0, 1].\n",
    "\n",
    "Example 2:\n",
    "\n",
    "Input: nums = [3,2,4], target = 6\n",
    "Output: [1,2]\n",
    "Example 3:\n",
    "\n",
    "Input: nums = [3,3], target = 6\n",
    "Output: [0,1]\n",
    " \n",
    "\n",
    "Constraints:\n",
    "\n",
    "2 <= nums.length <= 104\n",
    "\n",
    "-109 <= nums[i] <= 109\n",
    "\n",
    "-109 <= target <= 109\n",
    "\n",
    "Only one valid answer exists.\n",
    " \n",
    "\n",
    "Follow-up: Can you come up with an algorithm that is less than O(n2) time complexity?"
   ]
  },
  {
   "cell_type": "code",
   "execution_count": 44,
   "metadata": {},
   "outputs": [
    {
     "name": "stdout",
     "output_type": "stream",
     "text": [
      "9\n",
      "[8, 11, 15, 9, 7]\n",
      "i 0\n",
      "1\n",
      "2\n",
      "3\n",
      "4\n",
      "i 1\n",
      "2\n",
      "3\n",
      "4\n",
      "i 2\n",
      "3\n",
      "4\n",
      "i 3\n",
      "4\n",
      "i 4\n",
      "indices are  -1\n"
     ]
    }
   ],
   "source": [
    "## Brute force approach\n",
    "\n",
    "# def twosu|\n",
    "\n",
    "\n",
    "def twosum(arr, target):\n",
    "    print(target)\n",
    "    print(arr)\n",
    "\n",
    "    for i in range(0, len(arr)):\n",
    "        print('i', i)\n",
    "        for j in range(i+1, len(arr)):\n",
    "            print(j)\n",
    "            if (arr[i] + arr[j] == target):\n",
    "                print(arr[i], arr[j], target)\n",
    "                return (i, j)\n",
    "    return -1\n",
    "\n",
    "\n",
    "## Driver code\n",
    "# arr = [2, 7, 11, 15]\n",
    "# arr = [2, 8, 11, 15, 7]\n",
    "arr = [8, 11, 15, 9, 7]\n",
    "\n",
    "target = 9\n",
    "indices = twosum(arr, target)\n",
    "print('indices are ', indices)"
   ]
  },
  {
   "cell_type": "code",
   "execution_count": null,
   "metadata": {},
   "outputs": [],
   "source": []
  }
 ],
 "metadata": {
  "kernelspec": {
   "display_name": "Python 3.9.12 ('base')",
   "language": "python",
   "name": "python3"
  },
  "language_info": {
   "codemirror_mode": {
    "name": "ipython",
    "version": 3
   },
   "file_extension": ".py",
   "mimetype": "text/x-python",
   "name": "python",
   "nbconvert_exporter": "python",
   "pygments_lexer": "ipython3",
   "version": "3.9.12"
  },
  "orig_nbformat": 4,
  "vscode": {
   "interpreter": {
    "hash": "578ee7e92e54ab0c8d5be573459fa90ccd0244b601c3dc47aae9cca97e292233"
   }
  }
 },
 "nbformat": 4,
 "nbformat_minor": 2
}
