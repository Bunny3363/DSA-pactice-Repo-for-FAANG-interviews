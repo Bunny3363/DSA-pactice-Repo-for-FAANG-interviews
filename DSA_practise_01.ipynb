{
 "cells": [
  {
   "cell_type": "markdown",
   "metadata": {},
   "source": [
    "# Searching Algorithms\n"
   ]
  },
  {
   "cell_type": "markdown",
   "metadata": {},
   "source": [
    "## First Application of Divide and Conquer:\n",
    "1. Binary Search: This search algorithm works in an array of elements that are already **sorted** by ignoring half of the elements after just one comparision and basic prociple of binary search is **Divide and Conquer Algo paradigm**\n"
   ]
  },
  {
   "cell_type": "code",
   "execution_count": 1,
   "metadata": {},
   "outputs": [
    {
     "data": {
      "text/plain": [
       "6"
      ]
     },
     "execution_count": 1,
     "metadata": {},
     "output_type": "execute_result"
    }
   ],
   "source": [
    "## Linear Search Algorithm Implementation\n",
    "\n",
    "def LinearSearch(arr, x, n):\n",
    "    for i in range(n):\n",
    "        if arr[i] == x:\n",
    "            return i\n",
    "    return -1 # -1 indicates that an element is not present in array\n",
    "\n",
    "# Driver Code\n",
    "arr = [53, 2, 52, 8, 96, 3, 88]\n",
    "x = 88\n",
    "n = len(arr)\n",
    "LinearSearch(arr, x, n)"
   ]
  },
  {
   "cell_type": "markdown",
   "metadata": {},
   "source": [
    "#### **Binary Search Implementation**\n",
    "\n",
    "##### Steps of Binary Search Implementation:\n",
    "1. Compare x with the middle element.\n",
    "2. If x matches with the middle element, we return the mid index.\n",
    "3. Else if x is greater than the mid element, then x can only lie in the right (greater) half subarray after the mid element. Then we apply the algorithm again for the right half.\n",
    "4. Else if x is smaller, the target x must lie in the left (lower) half. So we apply the algorithm for the left half."
   ]
  },
  {
   "cell_type": "markdown",
   "metadata": {},
   "source": [
    "**Recursice Approach of Binary search**"
   ]
  },
  {
   "cell_type": "code",
   "execution_count": 7,
   "metadata": {},
   "outputs": [
    {
     "name": "stdout",
     "output_type": "stream",
     "text": [
      "8\n"
     ]
    }
   ],
   "source": [
    "## Binary Search - Recursive Approach\n",
    "\n",
    "def BinarySearch(arr, low, high, x):\n",
    "    # First check whether the problem is big or small\n",
    "    # Considering this as small problem\n",
    "    if (low == high):                            ## small problem \n",
    "        if (arr[low] == x):\n",
    "            return low\n",
    "        else:\n",
    "            return -1                            ## Element not present in array\n",
    "    # Big problem -> use Divide and Conquer Algorithm\n",
    "    else:\n",
    "        mid = low + (high - low) // 2\n",
    "        \n",
    "        if (arr[mid] == x):\n",
    "            return mid\n",
    "        elif (arr[mid] < x):\n",
    "            return BinarySearch(arr, mid+1, high, x)\n",
    "        else:\n",
    "            BinarySearch(arr, low, mid-1, x)\n",
    "\n",
    "\n",
    "# Driver Code\n",
    "arr = [2,5,7,12,34,56,79,80,90]\n",
    "#arr1 = [2,5,7,80,80,100,139,190,290]\n",
    "# arr = [2, 5]\n",
    "x = 90\n",
    "n = len(arr)\n",
    "\n",
    "pos = BinarySearch(arr, 0, n-1, x)\n",
    "print(pos)"
   ]
  },
  {
   "cell_type": "markdown",
   "metadata": {},
   "source": [
    "#### **Iterative Approach of Binary Search**"
   ]
  },
  {
   "cell_type": "code",
   "execution_count": 9,
   "metadata": {},
   "outputs": [
    {
     "name": "stdout",
     "output_type": "stream",
     "text": [
      "8\n"
     ]
    }
   ],
   "source": [
    "## Binary Search - Iteration Approach\n",
    "\n",
    "def BinarySearch(arr, low, high, x):\n",
    "    while(low <= high):\n",
    "        # Dividing the problem\n",
    "        mid = low + (high - low)//2\n",
    "        # If x is greater, ignore the left half\n",
    "        if (arr[mid] < x):\n",
    "            low = mid + 1\n",
    "        # If x is smaller, ignore the right half\n",
    "        elif (arr[mid] > x):\n",
    "            high = mid - 1\n",
    "        # x is present at the mid\n",
    "        else:\n",
    "            return mid\n",
    "    # searched element not present in an array\n",
    "    return -1\n",
    "\n",
    "\n",
    "## Drive Code\n",
    "arr = [2,5,7,12,34,56,79,80,90]\n",
    "x = 90\n",
    "n = len(arr)\n",
    "pos = BinarySearch(arr,0,n-1,x)\n",
    "print(pos)"
   ]
  },
  {
   "cell_type": "markdown",
   "metadata": {},
   "source": [
    "##### **Assignment Problem 1 :** \n",
    "input : Sorted array of n distinct elements which are integers\n",
    "\n",
    "output : Find any element in an array such that an array element and it's corresponding index is same meaning array[i] = i.\n",
    "\n",
    "Write an optimised code with its time complexity for above problem statement."
   ]
  },
  {
   "cell_type": "code",
   "execution_count": 29,
   "metadata": {},
   "outputs": [
    {
     "name": "stdout",
     "output_type": "stream",
     "text": [
      "3\n"
     ]
    }
   ],
   "source": [
    "## Written by me but logic needs to be updated\n",
    "\n",
    "\n",
    "# def BinarySearchElement(arr, low, high):\n",
    "#     if (low >= high): # small problem case O(n) = 1\n",
    "#         if low == 0:\n",
    "#             return 0\n",
    "#         else:\n",
    "#             return -1\n",
    "#     else:\n",
    "#         mid = low + (high - low)//2\n",
    "#         print(mid)\n",
    "#         print(arr)\n",
    "#         if arr[mid] == mid:\n",
    "#             return mid\n",
    "#         elif (mid+1 < arr[mid]):\n",
    "#             print('Called elif block')\n",
    "#             return BinarySearchElement(arr, 0, mid-1)\n",
    "#         else:\n",
    "#             print('called else block')            \n",
    "#             return BinarySearchElement(arr, mid+1, high)\n",
    "\n",
    "## taken from GfG\n",
    "def binarySearch(arr, low, high):\n",
    "    if high >= low :\n",
    "         \n",
    "        mid = low + (high - low)//2\n",
    "        if mid == arr[mid]:\n",
    "            return mid\n",
    "        res = -1\n",
    "        if mid + 1 <= arr[high]:\n",
    "            res = binarySearch(arr, (mid + 1), high)\n",
    "        if res !=-1:\n",
    "            return res\n",
    "        if mid-1 >= arr[low]:\n",
    "            return binarySearch(arr, low, (mid -1))\n",
    "     \n",
    " \n",
    "    # Return -1 if there is no Fixed Point\n",
    "    return -1\n",
    "## Driver code\n",
    "# arr = [ 1, 2, 3, 3\n",
    "# , 5, 6, 8, 13, 15, 35]\n",
    "# arr = [0, 2, 3, 4, 4, 7, 9]\n",
    "arr = [-10, -1, 0, 3, 10, 11, 30, 50, 100]\n",
    "n = len(arr)\n",
    "# available_flag = BinarySearchElement(arr, 0, n-1)\n",
    "available_flag = binarySearch(arr, 0, n-1)\n",
    "print(available_flag)"
   ]
  },
  {
   "cell_type": "code",
   "execution_count": null,
   "metadata": {},
   "outputs": [],
   "source": [
    "## sum of 2 integers closest to a target value\n",
    "# def sumof2ele(arr, sum_of_pairs):\n",
    "#     for i in arr:\n",
    "#         required_pair = sum_of_pairs - i\n",
    "#         for j in arr[i:]:\n",
    "\n",
    "\n",
    "            \n",
    "\n",
    "\n",
    "\n",
    "\n",
    "\n",
    "\n",
    "\n",
    "\n",
    "\n",
    "\n",
    "\n",
    "\n",
    "\n",
    "# ## Driver code\n",
    "# arr_sum_2_ele = [10, 22, 28, 29, 30, 40]\n",
    "# sum_of_pairs = 54\n",
    "# pairs = sumof2ele(arr, arr_sum_2_ele)\n",
    "# print(pairs)"
   ]
  },
  {
   "cell_type": "markdown",
   "metadata": {},
   "source": [
    "### Two sum\n",
    "Given an array of integers nums and an integer target, return indices of the two numbers such that they add up to target.\n",
    "\n",
    "You may assume that each input would have exactly one solution, and you may not use the same element twice.\n",
    "\n",
    "You can return the answer in any order.\n",
    "\n",
    " \n",
    "\n",
    "Example 1:\n",
    "\n",
    "Input: nums = [2,7,11,15], target = 9\n",
    "Output: [0,1]\n",
    "Explanation: Because nums[0] + nums[1] == 9, we return [0, 1].\n",
    "\n",
    "Example 2:\n",
    "\n",
    "Input: nums = [3,2,4], target = 6\n",
    "Output: [1,2]\n",
    "Example 3:\n",
    "\n",
    "Input: nums = [3,3], target = 6\n",
    "Output: [0,1]\n",
    " \n",
    "\n",
    "Constraints:\n",
    "\n",
    "2 <= nums.length <= 104\n",
    "\n",
    "-109 <= nums[i] <= 109\n",
    "\n",
    "-109 <= target <= 109\n",
    "\n",
    "Only one valid answer exists.\n",
    " \n",
    "\n",
    "Follow-up: Can you come up with an algorithm that is less than O(n2) time complexity?"
   ]
  },
  {
   "cell_type": "code",
   "execution_count": 19,
   "metadata": {},
   "outputs": [
    {
     "name": "stdout",
     "output_type": "stream",
     "text": [
      "i  0\n",
      "j  2\n",
      "arr[i] 3\n",
      "arr[j] 4\n",
      "i  0\n",
      "j  1\n",
      "arr[i] 3\n",
      "arr[j] 2\n",
      "i  1\n",
      "j  1\n",
      "arr[i] 2\n",
      "arr[j] 2\n",
      "i  2\n",
      "j  1\n",
      "arr[i] 4\n",
      "arr[j] 2\n",
      "indices are  [2, 1]\n"
     ]
    }
   ],
   "source": [
    "## Brute force approach -> O(n2)\n",
    "\n",
    "# def twosum(arr, target):\n",
    "#     print(target)\n",
    "#     print(arr)\n",
    "\n",
    "#     for i in range(0, len(arr)):\n",
    "#         print('i', i)\n",
    "#         for j in range(i+1, len(arr)):\n",
    "#             print(j)\n",
    "#             if (arr[i] + arr[j] == target):\n",
    "#                 print(arr[i], arr[j], target)\n",
    "#                 return [i, j]\n",
    "#     return -1\n",
    "\n",
    "## Greedy Algo approach -> O(n)\n",
    "\n",
    "def twosum(arr, target):\n",
    "    n = len(arr) - 1\n",
    "    i = 0\n",
    "    j = n\n",
    "    while True:\n",
    "        print('i ', i)\n",
    "        print('j ', j)\n",
    "        print('arr[i]', arr[i])\n",
    "        print('arr[j]', arr[j])\n",
    "        # if i == j:  ## as array is not sorted im commenting this constraint\n",
    "        #     return -1\n",
    "\n",
    "        if j==0:\n",
    "            return -1\n",
    "        if arr[i] + arr[j] == target:\n",
    "            return [i, j]\n",
    "        else:\n",
    "            if arr[i] + arr[j] > target:\n",
    "                j = j - 1\n",
    "            else:\n",
    "                i = i + 1 \n",
    "            \n",
    "\n",
    "\n",
    "\n",
    "\n",
    "\n",
    "# Driver code\n",
    "# arr = [2, 7, 11, 15]\n",
    "# target = 9\n",
    "\n",
    "arr = [3, 2, 4]\n",
    "target = 6\n",
    "indices = twosum(arr, target)\n",
    "print('indices are ', indices)"
   ]
  },
  {
   "cell_type": "markdown",
   "metadata": {},
   "source": [
    "## Merge Sort"
   ]
  },
  {
   "cell_type": "code",
   "execution_count": 26,
   "metadata": {},
   "outputs": [
    {
     "name": "stdout",
     "output_type": "stream",
     "text": [
      "Given array is\n",
      "50 20 40 90 88 11 13 \n",
      "Sorted array is\n",
      "11 13 20 40 50 88 90 \n"
     ]
    }
   ],
   "source": [
    "## python program for implementation of merge sort\n",
    "def mergeSort(arr):\n",
    "    ## moving Top to Bottom in a Recursive Tree\n",
    "    if len(arr) > 1:\n",
    "        # Finding the mid of the array\n",
    "        mid = len(arr)//2\n",
    "        # Dividing the array elements into two halves\n",
    "        # Left subtree\n",
    "        L = arr[:mid]\n",
    "        # Right subtree\n",
    "        R = arr[mid:]\n",
    "        # sorting the first half(Left subtree)\n",
    "        mergeSort(L)\n",
    "        # sorting the second half(Right subtree)\n",
    "        mergeSort(R)\n",
    "\n",
    "        ## move from bottom to top by aplying merge procedure\n",
    "        i = j = k = 0\n",
    "        # Copy data to temp arrays L[] and R[]\n",
    "\n",
    "        while i < len(L) and j < len(R):\n",
    "            if L[i] < R[j]:\n",
    "                arr[k] = L[i]\n",
    "                i += 1\n",
    "            else:\n",
    "                arr[k] = R[j]\n",
    "                j += 1\n",
    "            k += 1\n",
    "        # checking if any element was left\n",
    "        while i < len(L):\n",
    "            arr[k] = L[i]\n",
    "            i += 1\n",
    "            k += 1\n",
    "        while j < len(R):\n",
    "            arr[k] = R[j]\n",
    "            j += 1\n",
    "            k += 1\n",
    "\n",
    "\n",
    "\n",
    "\n",
    "\n",
    "# code to print the list\n",
    "def printList(arr):\n",
    "    for i in range(len(arr)):\n",
    "        print(arr[i], end=\" \")\n",
    "    print()\n",
    "\n",
    "# Driver code\n",
    "# if __name__ == 'main':\n",
    "#     arr = [50, 20, 40, 90, 88, 11, 13]\n",
    "#     print('Given array is', end='\\n')\n",
    "#     printList(arr)\n",
    "#     mergeSort(arr)\n",
    "#     print('Sorted array is', end='\\n')\n",
    "#     printList(arr)\n",
    "arr = [50, 20, 40, 90, 88, 11, 13]\n",
    "print('Given array is', end='\\n')\n",
    "printList(arr)\n",
    "mergeSort(arr)\n",
    "print('Sorted array is', end='\\n')\n",
    "printList(arr)"
   ]
  },
  {
   "cell_type": "markdown",
   "metadata": {},
   "source": [
    "## Quick Sort"
   ]
  },
  {
   "cell_type": "code",
   "execution_count": 6,
   "metadata": {},
   "outputs": [],
   "source": [
    "def partition(arr, low, high):\n",
    "    pivot = arr[low] #first element as pivot\n",
    "    i = low  # moving index\n",
    "    for j in range(low+1, high+1): #traversing the array to change ,high+1 as range function dosen't include last element\n",
    "        if arr[j]<=pivot: # comparing with pivot and if it is less than or equal then swap it with moving index element\n",
    "            i+=1           # moving index increased by 1\n",
    "            arr[i], arr[j] = arr[j], arr[i]  # swapping moving  index element  with arr[j]\n",
    "    arr[i], arr[low] =  arr[low], arr[i]  # swapping the pivot element with the moving index element\n",
    "    return i  # return moving index\n"
   ]
  },
  {
   "cell_type": "code",
   "execution_count": 7,
   "metadata": {},
   "outputs": [
    {
     "data": {
      "text/plain": [
       "4"
      ]
     },
     "execution_count": 7,
     "metadata": {},
     "output_type": "execute_result"
    }
   ],
   "source": [
    "partition([50, 70, 80, 30, 40, 88, 19, 27, 69], 0, 8)\n"
   ]
  },
  {
   "cell_type": "code",
   "execution_count": 8,
   "metadata": {},
   "outputs": [],
   "source": [
    "def quickSort(arr, low, high):\n",
    "    if len(arr) == 1: # small problem  Time complexity : O(1)\n",
    "        return arr\n",
    "    if low<high:\n",
    "        m = partition(arr, low, high) #Time complexity O(n),where n = high-low+1\n",
    "        quickSort(arr, low, m-1) #T(m-low),m = partition index,left partition recursive call \n",
    "        quickSort(arr, m+1, high) #T(high-m),m = partition index,right partition recursive call\n"
   ]
  },
  {
   "cell_type": "code",
   "execution_count": 9,
   "metadata": {},
   "outputs": [
    {
     "name": "stdout",
     "output_type": "stream",
     "text": [
      "[19, 27, 30, 40, 50, 69, 70, 80, 88]\n",
      "Time taken :  0.0\n"
     ]
    }
   ],
   "source": [
    "import time\n",
    "\n",
    "start = time.time()\n",
    "arr=[50, 70, 80, 30, 40, 88, 19, 27, 69]\n",
    "quickSort(arr,0,8)\n",
    "end = time.time()\n",
    "print(arr)\n",
    "print(\"Time taken : \",(end-start)*1000)"
   ]
  },
  {
   "cell_type": "markdown",
   "metadata": {},
   "source": [
    "ascending case\n",
    "1,2,3,4,5,6,7,8,9 Before partition function\n",
    "\n",
    "1,2,3,4,5,6,7,8,9 after partiion function\n",
    "\n",
    "both are same as now swaps take place in loop and end of loop pivot will swap with moving index = 0 that is same as pivot because it isn't moved in this case\n",
    "\n",
    "partition function will return index 0\n",
    "\n",
    "now left recursive call will never run as low>high(m-1 which is -1)\n",
    "\n",
    "and right recursive call will take [2,3,4,5,6,7,8,9]\n",
    "\n",
    "for each recursive call array length is reduced by 1\n",
    "\n",
    "so time complexity, T(n) = T(n-1) + n, O(n^2)"
   ]
  },
  {
   "cell_type": "code",
   "execution_count": 12,
   "metadata": {},
   "outputs": [
    {
     "name": "stdout",
     "output_type": "stream",
     "text": [
      "[1, 2, 3, 4, 5, 6, 7, 8, 9]\n",
      "Time Taken:  0.0\n"
     ]
    }
   ],
   "source": [
    "#case I asceding order of array of 9 elements\n",
    "start = time.time()\n",
    "arr1=[1, 2, 3, 4, 5, 6, 7, 8, 9]\n",
    "quickSort(arr1, 0, 8)\n",
    "end=time.time()\n",
    "print(arr1)\n",
    "print(\"Time Taken: \",(end-start)*1000)"
   ]
  },
  {
   "cell_type": "markdown",
   "metadata": {},
   "source": [
    "descending case\n",
    "9,8,7,6,5,4,3,2,1 Before partition function\n",
    "\n",
    "1,8,7,6,5,4,3,2,9 After partition function\n",
    "\n",
    "Same as Identical case in partition all elements will swap with themselves and at last pivot swapped with last element\n",
    "\n",
    "and left quicksort recursive call will take [1,8,7,6,5,4,3,2] and right quicksort recursive call won't run as low >high\n",
    "\n",
    "In first iteration\n",
    "\n",
    "1,8,7,6,5,4,3,2 # before partition function\n",
    "\n",
    "2,8,7,6,5,4,3,1#after parition function\n",
    "\n",
    "so again left recursive will take n-1 array\n",
    "\n",
    "right recursive won't run as high< low in recursive call\n",
    "\n",
    "Similar to identical.\n",
    "\n",
    "So time complexity T(n)=T(n-1)+n, O(n^2)"
   ]
  },
  {
   "cell_type": "code",
   "execution_count": 15,
   "metadata": {},
   "outputs": [
    {
     "name": "stdout",
     "output_type": "stream",
     "text": [
      "[1, 2, 3, 4, 5, 6, 7, 8, 9]\n",
      "Time taken:  0.0\n"
     ]
    }
   ],
   "source": [
    "#case II descending order of array of 9 elements\n",
    "start = time.time()\n",
    "arr2=[9, 8, 7, 6, 5, 4, 3, 2, 1]\n",
    "quickSort(arr2, 0, 8)\n",
    "end=time.time()\n",
    "print(arr2)\n",
    "print(\"Time taken: \",(end-start)*1000)"
   ]
  },
  {
   "cell_type": "markdown",
   "metadata": {},
   "source": [
    "Identical Case\n",
    "9(italic),9,9,9,9,9,9,9,9(bold)- elements\n",
    "\n",
    "0,1,2,3,4,5,6,7,8-index\n",
    "\n",
    "Italic First 9 is the pivot and bold 9 is the last element,moving index =0\n",
    "\n",
    "In partition algorthim, first pivot 9 index 0 compares with index(1) 9 as it is <=9 it will swap with moving index +=1 which is 1 that means it will swap with itself,likewise every element will swap it with istelf untill end\n",
    "\n",
    "at last we swap pivot with moving index (8 in this case) then array will become\n",
    "\n",
    "9(italic),9,9,9,9,9,9,9,9(bold)#before parition\n",
    "\n",
    "9(bold),9,9,9,9,9,9,9,9(italic)#after partition\n",
    "\n",
    "partition will return index 8\n",
    "\n",
    "so left quicksort recursive call will take 7 element array and and after each iteration it will reduce by 1\n",
    "\n",
    "right recursive will never run as high < low in right recursive call\n",
    "\n",
    "So Recurrence relation is T(n) = T(n-1) +n,So time complexity O(n^2)"
   ]
  },
  {
   "cell_type": "code",
   "execution_count": 16,
   "metadata": {},
   "outputs": [
    {
     "name": "stdout",
     "output_type": "stream",
     "text": [
      "[9, 9, 9, 9, 9, 9, 9, 9, 9]\n",
      "Time taken:  0.0\n"
     ]
    }
   ],
   "source": [
    "#caseIII identical element array of 9 elements\n",
    "start = time.time()\n",
    "arr3 = [9, 9, 9, 9, 9, 9, 9, 9, 9]\n",
    "quickSort(arr3, 0, 8)\n",
    "end = time.time()\n",
    "print(arr3)\n",
    "print(\"Time taken: \",(end-start)*1000)"
   ]
  },
  {
   "cell_type": "markdown",
   "metadata": {},
   "source": [
    "## Finding Min and Max value in Array using Divide and conquer\n"
   ]
  },
  {
   "cell_type": "code",
   "execution_count": 1,
   "metadata": {},
   "outputs": [
    {
     "name": "stdout",
     "output_type": "stream",
     "text": [
      "Minimum element in an array: 190\n",
      "Maximum element in an array 4\n"
     ]
    }
   ],
   "source": [
    "def DAC_maxmin(array, low, high):\n",
    "    max_array = array[low]\n",
    "    min_array = array[low]\n",
    "\n",
    "    if low == high:\n",
    "        return (max_array, min_array)\n",
    "    elif low  == high - 1:\n",
    "        if array[low] > array[high]:\n",
    "            max_array = array[low]\n",
    "            min_array = array[high]\n",
    "        else:\n",
    "            max_array = array[high]\n",
    "            min_array = array[low]\n",
    "        return (max_array, min_array)\n",
    "    else:\n",
    "        mid = low + (high - low)//2\n",
    "        max_1, min_1 = DAC_maxmin(array, low, mid)\n",
    "        max_2, min_2 = DAC_maxmin(array, mid+1, high)\n",
    "\n",
    "    return (max(max_1, max_2), min(min_1, min_2))\n",
    "\n",
    "## Driver Code\n",
    "array = [50, 90, 170, 25, 15, 7, 190, 4, 59]\n",
    "high = len(array) - 1\n",
    "low = 0\n",
    "max_array, min_array = DAC_maxmin(array, low, high)\n",
    "print(\"Minimum element in an array:\", max_array)\n",
    "print(\"Maximum element in an array\", min_array)\n"
   ]
  },
  {
   "cell_type": "markdown",
   "metadata": {},
   "source": [
    "Time Complexity of Finding of Maxima and Minima using Divide and Conquer Approach : O(n)"
   ]
  },
  {
   "cell_type": "markdown",
   "metadata": {},
   "source": []
  }
 ],
 "metadata": {
  "kernelspec": {
   "display_name": "Python 3.9.12 ('base')",
   "language": "python",
   "name": "python3"
  },
  "language_info": {
   "codemirror_mode": {
    "name": "ipython",
    "version": 3
   },
   "file_extension": ".py",
   "mimetype": "text/x-python",
   "name": "python",
   "nbconvert_exporter": "python",
   "pygments_lexer": "ipython3",
   "version": "3.9.12"
  },
  "orig_nbformat": 4,
  "vscode": {
   "interpreter": {
    "hash": "578ee7e92e54ab0c8d5be573459fa90ccd0244b601c3dc47aae9cca97e292233"
   }
  }
 },
 "nbformat": 4,
 "nbformat_minor": 2
}
